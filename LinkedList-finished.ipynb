{
 "cells": [
  {
   "cell_type": "code",
   "execution_count": 68,
   "id": "ab2d81e4",
   "metadata": {},
   "outputs": [],
   "source": [
    "# The LinkedList data structure\n",
    "\n",
    "# .append\n",
    "# .remove\n",
    "\n",
    "class Node:\n",
    "    def __init__(self, data, next_node=None):\n",
    "        self.data = data\n",
    "        self.next_node = next_node\n",
    "    \n",
    "    # getters\n",
    "    def get_data(self):\n",
    "        return self.data\n",
    "    \n",
    "    # setters\n",
    "    def set_data(self, new_data):\n",
    "        self.data = new_data\n",
    "        \n",
    "    def get_next_node(self):\n",
    "        return self.next_node\n",
    "    \n",
    "    def set_next_node(self, node_obj):\n",
    "        self.next_node = node_obj\n",
    "        \n",
    "    def __repr__(self):\n",
    "        return f'<Node: {self.data}>'\n",
    "\n",
    "class LinkedList:\n",
    "    def __init__(self, root=None):\n",
    "        self.root = root\n",
    "        self.size = 0\n",
    "        \n",
    "    def get_root(self):\n",
    "        return self.root\n",
    "    \n",
    "    def get_size(self):\n",
    "        return self.size\n",
    "    \n",
    "    def add(self, data):\n",
    "        new_node = Node(data, self.root)\n",
    "        self.root = new_node\n",
    "        self.size += 1\n",
    "    \n",
    "    def remove(self, data):\n",
    "        this_node = self.root\n",
    "        prev_node = None\n",
    "        \n",
    "        while this_node:\n",
    "            if this_node.get_data() == data: # if that number we were looking for is found\n",
    "                if prev_node:\n",
    "                    # remove the current Node and rearranging the order of the Nodes after that\n",
    "                    # Example: [12, 14, 16, 17, 15]\n",
    "                    # If we remove 16\n",
    "                    # [12, 14, None, 17, 15]\n",
    "                    # Remove the Node, but the reference to the empty index is still\n",
    "                    prev_node.set_next_node(this_node.get_next_node())\n",
    "                else:\n",
    "                    # Otherwise if the number we're loooking for was found at the first index, remove the Node that we're looking and reset the indeces\n",
    "                    self.root = this_node\n",
    "                self.size -= 1 # Decrement the number of items in LinkedList by 1\n",
    "                return True\n",
    "            else:\n",
    "                # shift the previous node to the node you just shifted from\n",
    "                prev_node = this_node\n",
    "                # set the next node equal to the node that comes after the next you're now in\n",
    "                this_node = this_node.get_next_node()\n",
    "        return False # Return False if the number isn't found\n",
    "    \n",
    "    def find(self, data):\n",
    "        this_node = self.root\n",
    "        while this_node:\n",
    "            if this_node.get_data() == data:\n",
    "                return this_node\n",
    "            else:\n",
    "                this_node = this_node.get_next_node()\n",
    "        return None # Return None, not an error\n"
   ]
  },
  {
   "cell_type": "code",
   "execution_count": 69,
   "id": "08bc224e",
   "metadata": {},
   "outputs": [],
   "source": [
    "# Direct access to the object\n",
    "# n = Node(data=4).data = 9"
   ]
  },
  {
   "cell_type": "code",
   "execution_count": 71,
   "id": "1bd167a7",
   "metadata": {},
   "outputs": [
    {
     "data": {
      "text/plain": [
       "4"
      ]
     },
     "execution_count": 71,
     "metadata": {},
     "output_type": "execute_result"
    }
   ],
   "source": [
    "# n1 = Node(data=4)\n",
    "# n2 = Node(data=7)\n",
    "\n",
    "ll = LinkedList()\n",
    "ll.add(19)\n",
    "ll.get_root()\n",
    "ll.get_size()\n",
    "ll.add(13)\n",
    "ll.get_size()\n",
    "ll.remove(13)\n",
    "\n",
    "ll.get_size()\n",
    "\n",
    "ll.remove(19)\n",
    "ll.get_size()\n",
    "\n",
    "ll.add(4)\n",
    "ll.get_size()\n",
    "\n",
    "ll.find(4).get_data()\n",
    "# n1.set_next_node(n2)\n",
    "# n1.get_next_node().get_data()"
   ]
  },
  {
   "cell_type": "code",
   "execution_count": null,
   "id": "a01500bb",
   "metadata": {},
   "outputs": [],
   "source": [
    "# LinkedList[<Node: 9>, None, <Node: 4>]\n"
   ]
  },
  {
   "cell_type": "code",
   "execution_count": 21,
   "id": "a7138cc6",
   "metadata": {},
   "outputs": [
    {
     "data": {
      "text/plain": [
       "3"
      ]
     },
     "execution_count": 21,
     "metadata": {},
     "output_type": "execute_result"
    }
   ],
   "source": [
    "n.set_data(3)\n",
    "n.get_data()"
   ]
  },
  {
   "cell_type": "code",
   "execution_count": 72,
   "id": "f6c248d0",
   "metadata": {},
   "outputs": [],
   "source": [
    "# Exercise: Tweak the LinkedList data structure so that the first Node's \n",
    "# previous Node is the last Node in the LinkedList and the last Node's next Node \n",
    "# is the first Node in the LinkedList\n",
    "\n",
    "# TL;DR\n",
    "# Make a circular LinkedList"
   ]
  }
 ],
 "metadata": {
  "kernelspec": {
   "display_name": "Python 3",
   "language": "python",
   "name": "python3"
  },
  "language_info": {
   "codemirror_mode": {
    "name": "ipython",
    "version": 3
   },
   "file_extension": ".py",
   "mimetype": "text/x-python",
   "name": "python",
   "nbconvert_exporter": "python",
   "pygments_lexer": "ipython3",
   "version": "3.8.8"
  }
 },
 "nbformat": 4,
 "nbformat_minor": 5
}
